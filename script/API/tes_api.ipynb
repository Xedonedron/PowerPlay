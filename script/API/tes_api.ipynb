{
 "cells": [
  {
   "cell_type": "code",
   "execution_count": 1,
   "metadata": {},
   "outputs": [
    {
     "name": "stdout",
     "output_type": "stream",
     "text": [
      "<Response [200]>\n"
     ]
    }
   ],
   "source": [
    "import requests\n",
    "\n",
    "response = requests.get('http://172.104.52.184:6717/api/node_1/soil_ph/from=2024-01-01')\n",
    "print(response)"
   ]
  },
  {
   "cell_type": "code",
   "execution_count": 2,
   "metadata": {},
   "outputs": [
    {
     "data": {
      "text/plain": [
       "{'x': '2024-10-27 20:00:00', 'y': 6.53}"
      ]
     },
     "execution_count": 2,
     "metadata": {},
     "output_type": "execute_result"
    }
   ],
   "source": [
    "raw = response.json()\n",
    "raw[-1]"
   ]
  },
  {
   "cell_type": "code",
   "execution_count": 3,
   "metadata": {},
   "outputs": [
    {
     "name": "stdout",
     "output_type": "stream",
     "text": [
      "2024-10-27\n"
     ]
    }
   ],
   "source": [
    "from datetime import date\n",
    "print(date.today())"
   ]
  },
  {
   "cell_type": "code",
   "execution_count": 4,
   "metadata": {},
   "outputs": [
    {
     "name": "stdout",
     "output_type": "stream",
     "text": [
      "Object -> soil_ph\n",
      "[{'x': '2024-10-27 07:00:01', 'y': 5.94}, {'x': '2024-10-27 08:00:01', 'y': 5.94}, {'x': '2024-10-27 09:00:00', 'y': 6.1}, {'x': '2024-10-27 10:00:00', 'y': 6.04}, {'x': '2024-10-27 11:00:00', 'y': 5.96}, {'x': '2024-10-27 12:00:01', 'y': 5.62}, {'x': '2024-10-27 13:00:00', 'y': 6.14}, {'x': '2024-10-27 14:00:00', 'y': 5.99}, {'x': '2024-10-27 15:00:00', 'y': 5.78}, {'x': '2024-10-27 16:00:00', 'y': 5.73}, {'x': '2024-10-27 17:00:01', 'y': 5.91}, {'x': '2024-10-27 18:00:00', 'y': 5.44}, {'x': '2024-10-27 19:00:01', 'y': 5.75}, {'x': '2024-10-27 20:00:00', 'y': 6.53}]\n",
      " #### \n",
      "Object -> temperature\n",
      "[{'x': '2024-10-27 07:00:01', 'y': 20.86}, {'x': '2024-10-27 08:00:01', 'y': 23.4}, {'x': '2024-10-27 09:00:00', 'y': 22.5}, {'x': '2024-10-27 10:00:00', 'y': 21.4}, {'x': '2024-10-27 11:00:00', 'y': 26.04}, {'x': '2024-10-27 12:00:01', 'y': 23.69}, {'x': '2024-10-27 13:00:00', 'y': 22.81}, {'x': '2024-10-27 14:00:00', 'y': 21.13}, {'x': '2024-10-27 15:00:00', 'y': 22.85}, {'x': '2024-10-27 16:00:00', 'y': 18.64}, {'x': '2024-10-27 17:00:01', 'y': 24.58}, {'x': '2024-10-27 18:00:00', 'y': 20.79}, {'x': '2024-10-27 19:00:01', 'y': 22.19}, {'x': '2024-10-27 20:00:00', 'y': 18.73}]\n",
      " #### \n",
      "Object -> battery\n",
      "[{'x': '2024-10-27 07:00:01', 'y': 4.079}, {'x': '2024-10-27 08:00:01', 'y': 4.175}, {'x': '2024-10-27 09:00:00', 'y': 3.855}, {'x': '2024-10-27 10:00:00', 'y': 4.043}, {'x': '2024-10-27 11:00:00', 'y': 3.907}, {'x': '2024-10-27 12:00:01', 'y': 3.883}, {'x': '2024-10-27 13:00:00', 'y': 4.202}, {'x': '2024-10-27 14:00:00', 'y': 3.954}, {'x': '2024-10-27 15:00:00', 'y': 4.056}, {'x': '2024-10-27 16:00:00', 'y': 3.945}, {'x': '2024-10-27 17:00:01', 'y': 4.119}, {'x': '2024-10-27 18:00:00', 'y': 4.014}, {'x': '2024-10-27 19:00:01', 'y': 3.959}, {'x': '2024-10-27 20:00:00', 'y': 4.191}]\n",
      " #### \n",
      "Object -> potassium\n",
      "[{'x': '2024-10-27 07:00:01', 'y': 107.2}, {'x': '2024-10-27 08:00:01', 'y': 98.5}, {'x': '2024-10-27 09:00:00', 'y': 112.1}, {'x': '2024-10-27 10:00:00', 'y': 130.3}, {'x': '2024-10-27 11:00:00', 'y': 139.1}, {'x': '2024-10-27 12:00:01', 'y': 104.1}, {'x': '2024-10-27 13:00:00', 'y': 148.2}, {'x': '2024-10-27 14:00:00', 'y': 129.0}, {'x': '2024-10-27 15:00:00', 'y': 110.8}, {'x': '2024-10-27 16:00:00', 'y': 126.0}, {'x': '2024-10-27 17:00:01', 'y': 146.8}, {'x': '2024-10-27 18:00:00', 'y': 146.2}, {'x': '2024-10-27 19:00:01', 'y': 128.0}, {'x': '2024-10-27 20:00:00', 'y': 153.6}]\n",
      " #### \n"
     ]
    }
   ],
   "source": [
    "from datetime import date\n",
    "from datetime import timedelta\n",
    "import requests\n",
    "from time import sleep\n",
    "\n",
    "iot_objects = ['soil_ph', 'temperature', 'battery', 'potassium']\n",
    "today = date.today()\n",
    "# yesterday = today - timedelta(days = 1)\n",
    "\n",
    "for object in iot_objects:\n",
    "    url = f'http://172.104.52.184:6717/api/node_1/{object}/from={today}'\n",
    "    raw = requests.get(url)\n",
    "\n",
    "    print(f'Object -> {object}')\n",
    "    print(raw.json())\n",
    "    print(' #### ')\n",
    "    # sleep(3)"
   ]
  },
  {
   "cell_type": "code",
   "execution_count": 12,
   "metadata": {},
   "outputs": [],
   "source": [
    "source = raw.json()"
   ]
  },
  {
   "cell_type": "code",
   "execution_count": null,
   "metadata": {},
   "outputs": [],
   "source": [
    "source"
   ]
  },
  {
   "cell_type": "code",
   "execution_count": null,
   "metadata": {},
   "outputs": [],
   "source": [
    "sensor_date = source[-1]['x']\n",
    "sensor_value = source[-1]['y']\n",
    "\n",
    "print(f'date: {sensor_date}')\n",
    "print(f'value: {sensor_value}')"
   ]
  },
  {
   "cell_type": "code",
   "execution_count": 11,
   "metadata": {},
   "outputs": [],
   "source": [
    "from kafka import KafkaProducer\n",
    "from datetime import date\n",
    "import time\n",
    "import requests\n",
    "import json\n",
    "\n",
    "# producer = KafkaProducer(\n",
    "#     bootstrap_servers = ['localhost:9092'],\n",
    "#     key_serializer = lambda k:str(k).encode('utf-8'),\n",
    "#     value_serializer = lambda v: json.dumps(v).encode('utf-9')\n",
    "# )\n",
    "\n",
    "today = date.today()\n",
    "\n",
    "def hit_api(object):\n",
    "    url = f'http://172.104.52.184:6717/api/node_1/{object}/from={today}'\n",
    "    response = requests.get(url)\n",
    "\n",
    "    if response.status_code == 200:\n",
    "        response = response.json()\n",
    "        return response\n",
    "    else:\n",
    "        print(f'Error: Failed to fetch data for {object}. Status code: {response.status_code}')\n"
   ]
  },
  {
   "cell_type": "code",
   "execution_count": 12,
   "metadata": {},
   "outputs": [],
   "source": [
    "iot_objects = ['soil_ph', 'temperature', 'battery', 'potassium']"
   ]
  },
  {
   "cell_type": "code",
   "execution_count": 13,
   "metadata": {},
   "outputs": [
    {
     "name": "stdout",
     "output_type": "stream",
     "text": [
      "Object soil_ph with timestamp: 2024-10-27 20:00:00\n",
      "Value: 6.53\n",
      "Object temperature with timestamp: 2024-10-27 20:00:00\n",
      "Value: 18.73\n",
      "Object battery with timestamp: 2024-10-27 20:00:00\n",
      "Value: 4.191\n",
      "Object potassium with timestamp: 2024-10-27 20:00:00\n",
      "Value: 153.6\n"
     ]
    }
   ],
   "source": [
    "for object in iot_objects:\n",
    "    data = hit_api(object)\n",
    "\n",
    "    print(f'Object {object} with ' + 'timestamp: ' + data[-1]['x'])\n",
    "    print(f'Value: ' + str(data[-1]['y']))"
   ]
  },
  {
   "cell_type": "code",
   "execution_count": 14,
   "metadata": {},
   "outputs": [],
   "source": [
    "import requests\n",
    "from time import sleep\n",
    "from datetime import date \n",
    "today = date.today()\n",
    "\n",
    "def hit_api(object):\n",
    "    url = f'http://172.104.52.184:6717/api/node_1/{object}/from={today}'\n",
    "    response = requests.get(url)\n",
    "    raw = response.json()\n",
    "    last_data = raw[-1]['x']\n",
    "    return raw, last_data"
   ]
  },
  {
   "cell_type": "code",
   "execution_count": 15,
   "metadata": {},
   "outputs": [
    {
     "name": "stdout",
     "output_type": "stream",
     "text": [
      "salah\n"
     ]
    }
   ],
   "source": [
    "raw_data, last_data = hit_api('soil_ph')\n",
    "\n",
    "if raw_data[-1]['x'] != last_data:\n",
    "    print('Benar')\n",
    "else:\n",
    "    print('salah')"
   ]
  },
  {
   "cell_type": "code",
   "execution_count": 25,
   "metadata": {},
   "outputs": [
    {
     "name": "stdout",
     "output_type": "stream",
     "text": [
      "Fetched data still same\n",
      "Fetched data still same\n",
      "Fetched data still same\n",
      "Fetched data still same\n",
      "Fetched data still same\n",
      "Fetched data still same\n",
      "Fetched data still same\n",
      "Fetched data still same\n",
      "Fetched data still same\n",
      "Fetched data still same\n",
      "Fetched data still same\n",
      "Fetched data still same\n",
      "Fetched data still same\n",
      "Fetched data still same\n",
      "Fetched data still same\n",
      "Fetched data still same\n",
      "Fetched data still same\n",
      "Fetched data still same\n",
      "Fetched data still same\n",
      "Fetched data still same\n",
      "Fetched data still same\n",
      "Fetched data still same\n",
      "Fetched data still same\n",
      "Fetched data still same\n",
      "Fetched data still same\n",
      "Fetched data still same\n",
      "Fetched data still same\n",
      "Fetched data still same\n"
     ]
    },
    {
     "ename": "KeyboardInterrupt",
     "evalue": "",
     "output_type": "error",
     "traceback": [
      "\u001b[1;31m---------------------------------------------------------------------------\u001b[0m",
      "\u001b[1;31mKeyboardInterrupt\u001b[0m                         Traceback (most recent call last)",
      "Cell \u001b[1;32mIn[25], line 19\u001b[0m\n\u001b[0;32m     17\u001b[0m \u001b[38;5;28;01melse\u001b[39;00m:\n\u001b[0;32m     18\u001b[0m     \u001b[38;5;28mprint\u001b[39m(\u001b[38;5;124m\"\u001b[39m\u001b[38;5;124mFetched data still same\u001b[39m\u001b[38;5;124m\"\u001b[39m)\n\u001b[1;32m---> 19\u001b[0m     \u001b[43msleep\u001b[49m\u001b[43m(\u001b[49m\u001b[38;5;241;43m5\u001b[39;49m\u001b[43m)\u001b[49m\n",
      "\u001b[1;31mKeyboardInterrupt\u001b[0m: "
     ]
    }
   ],
   "source": [
    "iot_objects = ['soil_ph', 'temperature', 'battery', 'potassium']\n",
    "\n",
    "while True: \n",
    "    for object in iot_objects:\n",
    "        raw_data, last_data = hit_api(object)\n",
    "        new_fetch_data = raw_data[-1]['x']\n",
    "\n",
    "        if new_fetch_data != last_data: # Harapannya, ini bener sekali\n",
    "            sensor_value = raw_data[-1]['y']\n",
    "        \n",
    "            producer.send(\n",
    "                'iot_sensors',\n",
    "                key=object,\n",
    "                value=raw_data # kirim response.json()\n",
    "            )\n",
    "            print(f'Get {object} with value -> {sensor_value}')\n",
    "        else:\n",
    "            print(\"Fetched data still same\")\n",
    "            sleep(3)"
   ]
  },
  {
   "cell_type": "code",
   "execution_count": 18,
   "metadata": {},
   "outputs": [],
   "source": [
    "import requests\n",
    "from time import sleep\n",
    "from datetime import date\n",
    "\n",
    "def hit_api(object):\n",
    "    # Fungsi untuk mengambil data dari API\n",
    "    url = f'http://172.104.52.184:6717/api/node_1/{object}/from={today}'\n",
    "    response = requests.get(url)\n",
    "    return response.json()\n",
    "\n"
   ]
  },
  {
   "cell_type": "code",
   "execution_count": 19,
   "metadata": {},
   "outputs": [],
   "source": [
    "iot_objects = ['soil_ph', 'temperature', 'battery', 'potassium']\n"
   ]
  },
  {
   "cell_type": "code",
   "execution_count": 20,
   "metadata": {},
   "outputs": [],
   "source": [
    "# Menyimpan data terakhir yang diambil dari setiap sensor\n",
    "last_data_dict = {} # dictionary"
   ]
  },
  {
   "cell_type": "code",
   "execution_count": 21,
   "metadata": {},
   "outputs": [],
   "source": [
    "today = date.today()\n",
    "\n",
    "for object in iot_objects:\n",
    "    raw_data = hit_api(object)\n",
    "    \n",
    "    # Ambil data terakhir dari API\n",
    "    new_fetch_data = raw_data[-1]['x']  # Gunakan timestamp atau ID unik\n",
    "    \n",
    "    # Jika sensor ini belum pernah dicek, langsung simpan data pertamanya\n",
    "    if object not in last_data_dict:\n",
    "        last_data_dict[object] = new_fetch_data\n",
    "\n",
    "    # Jika ada data baru\n",
    "    if new_fetch_data != last_data_dict[object]:\n",
    "        last_data_dict[object] = new_fetch_data  # Update dengan data terbaru"
   ]
  },
  {
   "cell_type": "code",
   "execution_count": 22,
   "metadata": {},
   "outputs": [
    {
     "data": {
      "text/plain": [
       "dict"
      ]
     },
     "execution_count": 22,
     "metadata": {},
     "output_type": "execute_result"
    }
   ],
   "source": [
    "type(last_data_dict)"
   ]
  },
  {
   "cell_type": "code",
   "execution_count": null,
   "metadata": {},
   "outputs": [],
   "source": [
    "# Ambil nilai sensor (misal suhu, kelembaban, dll.)\n",
    "sensor_value = raw_data[-1]['y']\n",
    "\n",
    "# Kirim data ke Kafka\n",
    "producer.send(\n",
    "    'iot_sensors',  # Topik Kafka\n",
    "    key=object,      # Nama sensor\n",
    "    value=raw_data   # Data lengkap\n",
    ")\n",
    "print(f'Data baru dari {object} dengan nilai -> {sensor_value}')\n",
    "else:\n",
    "print(f'Tidak ada data baru untuk {object}')\n",
    "    \n",
    "    sleep(3)  # Delay 3 detik untuk mengurangi load API\n"
   ]
  },
  {
   "cell_type": "code",
   "execution_count": null,
   "metadata": {},
   "outputs": [],
   "source": [
    "iot_objects = ['soil_ph', 'temperature', 'battery', 'potassium']\n",
    "    \n",
    "    # Menyimpan data terakhir yang diambil dari setiap sensor\n",
    "    last_data_dict = {}\n",
    "\n",
    "    # Mengambil data secara terus menerus\n",
    "    while True: \n",
    "        for object in iot_objects:\n",
    "            raw_data = hit_api(object)\n",
    "            \n",
    "            # Ambil data terakhir dari API\n",
    "            new_fetch_data = raw_data[-1]['x']  # Gunakan timestamp atau ID unik\n",
    "            \n",
    "            # Jika sensor ini belum pernah dicek, langsung simpan data pertamanya\n",
    "            if object not in last_data_dict:\n",
    "                last_data_dict[object] = new_fetch_data\n",
    "\n",
    "            # Jika ada data baru\n",
    "            if new_fetch_data != last_data_dict[object]:\n",
    "                last_data_dict[object] = new_fetch_data  # Update dengan data terbaru\n",
    "                \n",
    "                # Ambil nilai sensor (misal suhu, kelembaban, dll.)\n",
    "                sensor_value = raw_data[-1]['y']\n",
    "                \n",
    "                # Kirim data ke Kafka\n",
    "                producer.send(\n",
    "                    'iot_sensors',  # Topik Kafka\n",
    "                    key=object,      # Nama sensor\n",
    "                    value=raw_data   # Data lengkap\n",
    "                )\n",
    "                print(f'Data baru dari {object} dengan nilai -> {sensor_value}')\n",
    "            else:\n",
    "                print(f'Tidak ada data baru untuk {object}')\n",
    "            \n",
    "            sleep(3)  # Delay 3 detik untuk mengurangi load API\n"
   ]
  }
 ],
 "metadata": {
  "kernelspec": {
   "display_name": "Python 3",
   "language": "python",
   "name": "python3"
  },
  "language_info": {
   "codemirror_mode": {
    "name": "ipython",
    "version": 3
   },
   "file_extension": ".py",
   "mimetype": "text/x-python",
   "name": "python",
   "nbconvert_exporter": "python",
   "pygments_lexer": "ipython3",
   "version": "3.12.4"
  }
 },
 "nbformat": 4,
 "nbformat_minor": 2
}
